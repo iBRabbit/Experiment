{
 "cells": [
  {
   "cell_type": "code",
   "execution_count": 6,
   "metadata": {},
   "outputs": [],
   "source": [
    "import arff as arf\n",
    "import numpy as np\n",
    "import pandas as pd\n",
    "from sklearn.ensemble import RandomForestClassifier\n",
    "from sklearn.metrics import accuracy_score, f1_score, precision_score, recall_score, classification_report, confusion_matrix\n",
    "from sklearn.model_selection import train_test_split\n",
    "from sklearn.naive_bayes import GaussianNB\n",
    "from sklearn.neighbors import KNeighborsClassifier\n",
    "from sklearn.preprocessing import StandardScaler\n",
    "from sklearn.svm import SVC"
   ]
  },
  {
   "cell_type": "code",
   "execution_count": 7,
   "metadata": {},
   "outputs": [
    {
     "data": {
      "text/html": [
       "<div>\n",
       "<style scoped>\n",
       "    .dataframe tbody tr th:only-of-type {\n",
       "        vertical-align: middle;\n",
       "    }\n",
       "\n",
       "    .dataframe tbody tr th {\n",
       "        vertical-align: top;\n",
       "    }\n",
       "\n",
       "    .dataframe thead th {\n",
       "        text-align: right;\n",
       "    }\n",
       "</style>\n",
       "<table border=\"1\" class=\"dataframe\">\n",
       "  <thead>\n",
       "    <tr style=\"text-align: right;\">\n",
       "      <th></th>\n",
       "      <th>0</th>\n",
       "      <th>1</th>\n",
       "      <th>2</th>\n",
       "      <th>3</th>\n",
       "      <th>4</th>\n",
       "      <th>5</th>\n",
       "      <th>6</th>\n",
       "      <th>7</th>\n",
       "      <th>8</th>\n",
       "      <th>9</th>\n",
       "      <th>...</th>\n",
       "      <th>18</th>\n",
       "      <th>19</th>\n",
       "      <th>20</th>\n",
       "      <th>21</th>\n",
       "      <th>22</th>\n",
       "      <th>23</th>\n",
       "      <th>24</th>\n",
       "      <th>25</th>\n",
       "      <th>26</th>\n",
       "      <th>27</th>\n",
       "    </tr>\n",
       "  </thead>\n",
       "  <tbody>\n",
       "    <tr>\n",
       "      <th>0</th>\n",
       "      <td>3.00</td>\n",
       "      <td>24.30</td>\n",
       "      <td>389693.0</td>\n",
       "      <td>21.0</td>\n",
       "      <td>23.0</td>\n",
       "      <td>0</td>\n",
       "      <td>1540.0</td>\n",
       "      <td>0</td>\n",
       "      <td>4.0</td>\n",
       "      <td>11339.0</td>\n",
       "      <td>...</td>\n",
       "      <td>328.240918</td>\n",
       "      <td>505490.0</td>\n",
       "      <td>1540.0</td>\n",
       "      <td>0.236321</td>\n",
       "      <td>0.0</td>\n",
       "      <td>35.519662</td>\n",
       "      <td>35.550032</td>\n",
       "      <td>1.000000</td>\n",
       "      <td>50.021920</td>\n",
       "      <td>0</td>\n",
       "    </tr>\n",
       "    <tr>\n",
       "      <th>1</th>\n",
       "      <td>15.00</td>\n",
       "      <td>24.15</td>\n",
       "      <td>201196.0</td>\n",
       "      <td>23.0</td>\n",
       "      <td>24.0</td>\n",
       "      <td>0</td>\n",
       "      <td>1540.0</td>\n",
       "      <td>0</td>\n",
       "      <td>16.0</td>\n",
       "      <td>6274.0</td>\n",
       "      <td>...</td>\n",
       "      <td>328.205808</td>\n",
       "      <td>505437.0</td>\n",
       "      <td>1540.0</td>\n",
       "      <td>0.236337</td>\n",
       "      <td>0.0</td>\n",
       "      <td>20.156478</td>\n",
       "      <td>20.186848</td>\n",
       "      <td>1.000000</td>\n",
       "      <td>50.030211</td>\n",
       "      <td>0</td>\n",
       "    </tr>\n",
       "    <tr>\n",
       "      <th>2</th>\n",
       "      <td>24.15</td>\n",
       "      <td>15.00</td>\n",
       "      <td>61905.0</td>\n",
       "      <td>23.0</td>\n",
       "      <td>22.0</td>\n",
       "      <td>1</td>\n",
       "      <td>55.0</td>\n",
       "      <td>0</td>\n",
       "      <td>16.0</td>\n",
       "      <td>1930.0</td>\n",
       "      <td>...</td>\n",
       "      <td>328.206042</td>\n",
       "      <td>18051.3</td>\n",
       "      <td>55.0</td>\n",
       "      <td>0.008441</td>\n",
       "      <td>0.0</td>\n",
       "      <td>7.039952</td>\n",
       "      <td>7.069962</td>\n",
       "      <td>1.030045</td>\n",
       "      <td>50.060221</td>\n",
       "      <td>1</td>\n",
       "    </tr>\n",
       "    <tr>\n",
       "      <th>3</th>\n",
       "      <td>24.90</td>\n",
       "      <td>9.00</td>\n",
       "      <td>443135.0</td>\n",
       "      <td>23.0</td>\n",
       "      <td>21.0</td>\n",
       "      <td>1</td>\n",
       "      <td>55.0</td>\n",
       "      <td>0</td>\n",
       "      <td>10.0</td>\n",
       "      <td>12670.0</td>\n",
       "      <td>...</td>\n",
       "      <td>328.064183</td>\n",
       "      <td>18043.5</td>\n",
       "      <td>55.0</td>\n",
       "      <td>0.008437</td>\n",
       "      <td>0.0</td>\n",
       "      <td>39.617967</td>\n",
       "      <td>39.647976</td>\n",
       "      <td>1.030058</td>\n",
       "      <td>50.060098</td>\n",
       "      <td>0</td>\n",
       "    </tr>\n",
       "    <tr>\n",
       "      <th>4</th>\n",
       "      <td>24.80</td>\n",
       "      <td>8.00</td>\n",
       "      <td>157335.0</td>\n",
       "      <td>23.0</td>\n",
       "      <td>21.0</td>\n",
       "      <td>1</td>\n",
       "      <td>55.0</td>\n",
       "      <td>0</td>\n",
       "      <td>9.0</td>\n",
       "      <td>4901.0</td>\n",
       "      <td>...</td>\n",
       "      <td>328.113525</td>\n",
       "      <td>18046.2</td>\n",
       "      <td>55.0</td>\n",
       "      <td>0.008438</td>\n",
       "      <td>0.0</td>\n",
       "      <td>16.029803</td>\n",
       "      <td>16.059813</td>\n",
       "      <td>1.030054</td>\n",
       "      <td>50.061864</td>\n",
       "      <td>0</td>\n",
       "    </tr>\n",
       "  </tbody>\n",
       "</table>\n",
       "<p>5 rows × 28 columns</p>\n",
       "</div>"
      ],
      "text/plain": [
       "      0      1         2     3     4   5       6   7     8        9   ...  \\\n",
       "0   3.00  24.30  389693.0  21.0  23.0   0  1540.0   0   4.0  11339.0  ...   \n",
       "1  15.00  24.15  201196.0  23.0  24.0   0  1540.0   0  16.0   6274.0  ...   \n",
       "2  24.15  15.00   61905.0  23.0  22.0   1    55.0   0  16.0   1930.0  ...   \n",
       "3  24.90   9.00  443135.0  23.0  21.0   1    55.0   0  10.0  12670.0  ...   \n",
       "4  24.80   8.00  157335.0  23.0  21.0   1    55.0   0   9.0   4901.0  ...   \n",
       "\n",
       "           18        19      20        21   22         23         24  \\\n",
       "0  328.240918  505490.0  1540.0  0.236321  0.0  35.519662  35.550032   \n",
       "1  328.205808  505437.0  1540.0  0.236337  0.0  20.156478  20.186848   \n",
       "2  328.206042   18051.3    55.0  0.008441  0.0   7.039952   7.069962   \n",
       "3  328.064183   18043.5    55.0  0.008437  0.0  39.617967  39.647976   \n",
       "4  328.113525   18046.2    55.0  0.008438  0.0  16.029803  16.059813   \n",
       "\n",
       "         25         26  27  \n",
       "0  1.000000  50.021920   0  \n",
       "1  1.000000  50.030211   0  \n",
       "2  1.030045  50.060221   1  \n",
       "3  1.030058  50.060098   0  \n",
       "4  1.030054  50.061864   0  \n",
       "\n",
       "[5 rows x 28 columns]"
      ]
     },
     "execution_count": 7,
     "metadata": {},
     "output_type": "execute_result"
    }
   ],
   "source": [
    "file = open('final-dataset.arff', 'r')\n",
    "decoder = arf.ArffDecoder()\n",
    "data = decoder.decode(file, encode_nominal=True)\n",
    "\n",
    "df_decode = pd.DataFrame(data['data'])\n",
    "df_decode.head()"
   ]
  },
  {
   "cell_type": "code",
   "execution_count": 8,
   "metadata": {},
   "outputs": [],
   "source": [
    "features = [val[0:-1] for val in data['data']]\n",
    "values = [lab[-1] for lab in data['data']]"
   ]
  },
  {
   "cell_type": "code",
   "execution_count": 28,
   "metadata": {},
   "outputs": [],
   "source": [
    "da = set(values)\n",
    "brac = 3000\n",
    "tmpf = []\n",
    "tmpv = []\n",
    "\n",
    "for i in da :\n",
    "    counter = 0\n",
    "    while counter < brac :\n",
    "        for j in range(len(values)) :\n",
    "            if values[j] == i :\n",
    "                tmpf.append(features[j])\n",
    "                tmpv.append(values[j])\n",
    "                counter += 1\n",
    "            if counter == brac :\n",
    "                break\n",
    "\n",
    "features = tmpf\n",
    "values = tmpv"
   ]
  },
  {
   "cell_type": "code",
   "execution_count": 29,
   "metadata": {},
   "outputs": [],
   "source": [
    "X_train, X_test, Y_train, Y_test = train_test_split(features, values, test_size=0.2, random_state=0)"
   ]
  },
  {
   "cell_type": "code",
   "execution_count": 30,
   "metadata": {},
   "outputs": [],
   "source": [
    "scaler = StandardScaler()\n",
    "x_train = scaler.fit_transform(X_train)\n",
    "x_test = scaler.transform(X_test)\n",
    "y_train = np.array(Y_train)\n",
    "y_test = np.array(Y_test)"
   ]
  },
  {
   "cell_type": "code",
   "execution_count": 56,
   "metadata": {},
   "outputs": [],
   "source": [
    "def SVC_pred(x_train, y_train, x_test, y_test):\n",
    "    classifier = SVC(x_train, y_train, x_test, y_test)\n",
    "    classifier.fit(x_train, y_train)\n",
    "    y_pred = classifier.predict(x_test)\n",
    "    print(\"SVC Accuracy: \", accuracy_score(y_test, y_pred) * 100, \"%\")\n",
    "\n",
    "def KNN(x_train, y_train, x_test, y_test):\n",
    "    classifier = KNeighborsClassifier(n_neighbors=5, metric='minkowski', p=2)\n",
    "    classifier.fit(x_train, y_train)\n",
    "    y_pred = classifier.predict(x_test)\n",
    "    print(\"KNN Accuracy: \", accuracy_score(y_test, y_pred) * 100, \"%\")\n",
    "    \n",
    "def NB(x_train, y_train, x_test, y_test):\n",
    "    classifier = GaussianNB()\n",
    "    classifier.fit(x_train, y_train)\n",
    "    y_pred = classifier.predict(x_test)\n",
    "    print(\"NB Accuracy: \", accuracy_score(y_test, y_pred) * 100, \"%\")\n",
    "\n",
    "def RF(x_train, y_train, x_test, y_test):\n",
    "    classifier = RandomForestClassifier(n_estimators=10, criterion='entropy', random_state=0)\n",
    "    classifier.fit(x_train, y_train)\n",
    "    y_pred = classifier.predict(x_test)\n",
    "    print(\"Random Forest Accuracy: \", accuracy_score(y_test, y_pred) * 100)\n",
    "    "
   ]
  },
  {
   "cell_type": "code",
   "execution_count": 45,
   "metadata": {},
   "outputs": [
    {
     "name": "stdout",
     "output_type": "stream",
     "text": [
      "Random Forest Accuracy:  100.0\n"
     ]
    }
   ],
   "source": [
    "RF(x_train, y_train, x_test, Y_test)"
   ]
  },
  {
   "cell_type": "code",
   "execution_count": 46,
   "metadata": {},
   "outputs": [
    {
     "name": "stdout",
     "output_type": "stream",
     "text": [
      "NB Accuracy:  76.56666666666668 %\n"
     ]
    }
   ],
   "source": [
    "NB(X_train, Y_train, X_test, Y_test)"
   ]
  },
  {
   "cell_type": "code",
   "execution_count": 47,
   "metadata": {},
   "outputs": [
    {
     "name": "stdout",
     "output_type": "stream",
     "text": [
      "KNN Accuracy:  95.13333333333334 %\n"
     ]
    }
   ],
   "source": [
    "KNN(X_train, Y_train, X_test, Y_test)"
   ]
  },
  {
   "cell_type": "code",
   "execution_count": 57,
   "metadata": {},
   "outputs": [
    {
     "ename": "TypeError",
     "evalue": "SVC() got an unexpected keyword argument 'kernel'",
     "output_type": "error",
     "traceback": [
      "\u001b[1;31m---------------------------------------------------------------------------\u001b[0m",
      "\u001b[1;31mTypeError\u001b[0m                                 Traceback (most recent call last)",
      "\u001b[1;32md:\\OneDrive - Bina Nusantara\\7th Semester\\Seminar\\Kelompok 9\\Experiment\\ddos.ipynb Cell 11\u001b[0m in \u001b[0;36m<cell line: 1>\u001b[1;34m()\u001b[0m\n\u001b[1;32m----> <a href='vscode-notebook-cell:/d%3A/OneDrive%20-%20Bina%20Nusantara/7th%20Semester/Seminar/Kelompok%209/Experiment/ddos.ipynb#X14sZmlsZQ%3D%3D?line=0'>1</a>\u001b[0m SVC_pred(X_train, Y_train, X_test, Y_test)\n",
      "\u001b[1;32md:\\OneDrive - Bina Nusantara\\7th Semester\\Seminar\\Kelompok 9\\Experiment\\ddos.ipynb Cell 11\u001b[0m in \u001b[0;36mSVC_pred\u001b[1;34m(x_train, y_train, x_test, y_test)\u001b[0m\n\u001b[0;32m      <a href='vscode-notebook-cell:/d%3A/OneDrive%20-%20Bina%20Nusantara/7th%20Semester/Seminar/Kelompok%209/Experiment/ddos.ipynb#X14sZmlsZQ%3D%3D?line=0'>1</a>\u001b[0m \u001b[39mdef\u001b[39;00m \u001b[39mSVC_pred\u001b[39m(x_train, y_train, x_test, y_test):\n\u001b[1;32m----> <a href='vscode-notebook-cell:/d%3A/OneDrive%20-%20Bina%20Nusantara/7th%20Semester/Seminar/Kelompok%209/Experiment/ddos.ipynb#X14sZmlsZQ%3D%3D?line=1'>2</a>\u001b[0m     classifier \u001b[39m=\u001b[39m SVC(x_train, y_train, x_test, y_test)\n\u001b[0;32m      <a href='vscode-notebook-cell:/d%3A/OneDrive%20-%20Bina%20Nusantara/7th%20Semester/Seminar/Kelompok%209/Experiment/ddos.ipynb#X14sZmlsZQ%3D%3D?line=2'>3</a>\u001b[0m     classifier\u001b[39m.\u001b[39mfit(x_train, y_train)\n\u001b[0;32m      <a href='vscode-notebook-cell:/d%3A/OneDrive%20-%20Bina%20Nusantara/7th%20Semester/Seminar/Kelompok%209/Experiment/ddos.ipynb#X14sZmlsZQ%3D%3D?line=3'>4</a>\u001b[0m     y_pred \u001b[39m=\u001b[39m classifier\u001b[39m.\u001b[39mpredict(x_test)\n",
      "\u001b[1;32md:\\OneDrive - Bina Nusantara\\7th Semester\\Seminar\\Kelompok 9\\Experiment\\ddos.ipynb Cell 11\u001b[0m in \u001b[0;36mSVC\u001b[1;34m(x_train, y_train, x_test, y_test)\u001b[0m\n\u001b[0;32m      <a href='vscode-notebook-cell:/d%3A/OneDrive%20-%20Bina%20Nusantara/7th%20Semester/Seminar/Kelompok%209/Experiment/ddos.ipynb#X14sZmlsZQ%3D%3D?line=0'>1</a>\u001b[0m \u001b[39mdef\u001b[39;00m \u001b[39mSVC\u001b[39m(x_train, y_train, x_test, y_test):\n\u001b[1;32m----> <a href='vscode-notebook-cell:/d%3A/OneDrive%20-%20Bina%20Nusantara/7th%20Semester/Seminar/Kelompok%209/Experiment/ddos.ipynb#X14sZmlsZQ%3D%3D?line=1'>2</a>\u001b[0m     classifier \u001b[39m=\u001b[39m SVC(kernel\u001b[39m=\u001b[39;49m\u001b[39m'\u001b[39;49m\u001b[39mlinear\u001b[39;49m\u001b[39m'\u001b[39;49m, random_state\u001b[39m=\u001b[39;49m\u001b[39m0\u001b[39;49m)\n\u001b[0;32m      <a href='vscode-notebook-cell:/d%3A/OneDrive%20-%20Bina%20Nusantara/7th%20Semester/Seminar/Kelompok%209/Experiment/ddos.ipynb#X14sZmlsZQ%3D%3D?line=2'>3</a>\u001b[0m     classifier\u001b[39m.\u001b[39mfit(x_train, y_train)\n\u001b[0;32m      <a href='vscode-notebook-cell:/d%3A/OneDrive%20-%20Bina%20Nusantara/7th%20Semester/Seminar/Kelompok%209/Experiment/ddos.ipynb#X14sZmlsZQ%3D%3D?line=3'>4</a>\u001b[0m     y_pred \u001b[39m=\u001b[39m classifier\u001b[39m.\u001b[39mpredict(x_test)\n",
      "\u001b[1;31mTypeError\u001b[0m: SVC() got an unexpected keyword argument 'kernel'"
     ]
    }
   ],
   "source": [
    "SVC_pred(X_train, Y_train, X_test, Y_test)"
   ]
  },
  {
   "cell_type": "code",
   "execution_count": null,
   "metadata": {},
   "outputs": [],
   "source": []
  }
 ],
 "metadata": {
  "kernelspec": {
   "display_name": "Python 3.9.12 ('base')",
   "language": "python",
   "name": "python3"
  },
  "language_info": {
   "codemirror_mode": {
    "name": "ipython",
    "version": 3
   },
   "file_extension": ".py",
   "mimetype": "text/x-python",
   "name": "python",
   "nbconvert_exporter": "python",
   "pygments_lexer": "ipython3",
   "version": "3.9.12"
  },
  "orig_nbformat": 4,
  "vscode": {
   "interpreter": {
    "hash": "690fcc030dbde6f3f652c519b06a0d95da528e66105ed58c88e506e5818277cb"
   }
  }
 },
 "nbformat": 4,
 "nbformat_minor": 2
}
